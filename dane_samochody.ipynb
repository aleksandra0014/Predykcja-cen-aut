{
 "cells": [
  {
   "cell_type": "code",
   "execution_count": 13,
   "id": "initial_id",
   "metadata": {
    "collapsed": true,
    "ExecuteTime": {
     "end_time": "2024-02-19T10:28:20.803118600Z",
     "start_time": "2024-02-19T10:28:20.747269500Z"
    }
   },
   "outputs": [],
   "source": [
    "from web_scr import Scraper\n",
    "import pandas as pd"
   ]
  },
  {
   "cell_type": "code",
   "outputs": [],
   "source": [
    "sc = Scraper()\n",
    "lista = sc.scrape_pages(20)"
   ],
   "metadata": {
    "collapsed": false,
    "ExecuteTime": {
     "end_time": "2024-02-19T10:38:51.422675500Z",
     "start_time": "2024-02-19T10:28:20.787161800Z"
    }
   },
   "id": "d32f32ff685f1140",
   "execution_count": 14
  },
  {
   "cell_type": "code",
   "outputs": [],
   "source": [
    "unique_keys = set()\n",
    "for item in lista:\n",
    "    for d in item:\n",
    "        unique_keys.update(d.keys())\n",
    "\n",
    "# Utworzenie pustego słownika na podstawie unikalnych kluczy\n",
    "flat_dict = {key: [] for key in unique_keys}\n",
    "\n",
    "# Wypełnienie słownika danymi\n",
    "for item in lista:\n",
    "    temp_dict = {}\n",
    "    for d in item:\n",
    "        temp_dict.update(d)\n",
    "    for key in flat_dict.keys():\n",
    "        flat_dict[key].append(temp_dict.get(key, None))\n",
    "\n",
    "# Utworzenie obiektu DataFrame\n",
    "df = pd.DataFrame(flat_dict)\n",
    "# Zapis do pliku CSV\n",
    "df.to_csv('dane.csv', index=False)"
   ],
   "metadata": {
    "collapsed": false,
    "ExecuteTime": {
     "end_time": "2024-02-19T10:38:51.500468Z",
     "start_time": "2024-02-19T10:38:51.424672900Z"
    }
   },
   "id": "a3d3afcbbe6a3ae5",
   "execution_count": 15
  },
  {
   "cell_type": "code",
   "outputs": [
    {
     "data": {
      "text/plain": "        Stan Homologacja ciężarowa Wartość wykupu Pokaż oferty z numerem VIN  \\\n0    Używane                  None           None                        Tak   \n1       Nowe                  None           None                       None   \n2    Używane                  None           None                        Tak   \n3       None                  None           None                       None   \n4    Używane                  None           None                        Tak   \n..       ...                   ...            ...                        ...   \n704  Używane                  None           None                        Tak   \n705  Używane                  None           None                        Tak   \n706     Nowe                  None           None                       None   \n707  Używane                  None           None                        Tak   \n708  Używane                  None           None                        Tak   \n\n    VAT marża Rodzaj koloru Kraj pochodzenia     Moc    Kolor  \\\n0        None          None             None  150 KM    Szary   \n1        None          None             None  150 KM    Biały   \n2         Tak       Metalik           Belgia  181 KM  Brązowy   \n3        None          None             None    None     None   \n4        None       Metalik             None  120 KM    Szary   \n..        ...           ...              ...     ...      ...   \n704      None          None           Polska  150 KM    Szary   \n705      None       Metalik           Niemcy  177 KM  Srebrny   \n706      None       Metalik           Polska  141 KM  Zielony   \n707      None       Metalik           Niemcy  140 KM  Zielony   \n708      None       Metalik           Polska  265 KM  Srebrny   \n\n    Spalanie Poza Miastem  ... Pierwszy właściciel (od nowości)  \\\n0             4.0 l/100km  ...                             None   \n1                    None  ...                             None   \n2             4.1 l/100km  ...                             None   \n3                    None  ...                             None   \n4             3.2 l/100km  ...                             None   \n..                    ...  ...                              ...   \n704                  None  ...                             None   \n705           4.0 l/100km  ...                             None   \n706                  None  ...                             None   \n707                  None  ...                              Tak   \n708                  None  ...                             None   \n\n    Możliwość finansowania Rodzaj własności baterii Liczba miejsc  \\\n0                     None                     None          None   \n1                     None                     None          None   \n2                      Tak                     None             5   \n3                     None                     None          None   \n4                     None                     None             5   \n..                     ...                      ...           ...   \n704                   None                     None          None   \n705                   None                     None             4   \n706                    Tak                     None             5   \n707                   None                     None             5   \n708                    Tak                     None             5   \n\n    Pojemność skokowa Skrzynia biegów Opłata początkowa       Generacja  \\\n0           1 395 cm3        Manualna              None  B8 (2014-2023)   \n1           1 498 cm3    Automatyczna              None            None   \n2           1 969 cm3        Manualna              None            None   \n3                None            None              None            None   \n4           1 560 cm3        Manualna              None   I (2012-2019)   \n..                ...             ...               ...             ...   \n704         1 968 cm3        Manualna              None  B8 (2014-2023)   \n705         1 968 cm3    Automatyczna              None  8T (2007-2016)   \n706         1 580 cm3    Automatyczna              None            None   \n707         2 435 cm3        Manualna              None  II (2004-2012)   \n708         1 598 cm3    Automatyczna              None       V (2021-)   \n\n    Okres gwarancji producenta Pojemność baterii  \n0                         None              None  \n1                         None              None  \n2                         None              None  \n3                         None              None  \n4                         None              None  \n..                         ...               ...  \n704                       None              None  \n705                       None              None  \n706                       None              None  \n707                       None              None  \n708                       None              None  \n\n[709 rows x 49 columns]",
      "text/html": "<div>\n<style scoped>\n    .dataframe tbody tr th:only-of-type {\n        vertical-align: middle;\n    }\n\n    .dataframe tbody tr th {\n        vertical-align: top;\n    }\n\n    .dataframe thead th {\n        text-align: right;\n    }\n</style>\n<table border=\"1\" class=\"dataframe\">\n  <thead>\n    <tr style=\"text-align: right;\">\n      <th></th>\n      <th>Stan</th>\n      <th>Homologacja ciężarowa</th>\n      <th>Wartość wykupu</th>\n      <th>Pokaż oferty z numerem VIN</th>\n      <th>VAT marża</th>\n      <th>Rodzaj koloru</th>\n      <th>Kraj pochodzenia</th>\n      <th>Moc</th>\n      <th>Kolor</th>\n      <th>Spalanie Poza Miastem</th>\n      <th>...</th>\n      <th>Pierwszy właściciel (od nowości)</th>\n      <th>Możliwość finansowania</th>\n      <th>Rodzaj własności baterii</th>\n      <th>Liczba miejsc</th>\n      <th>Pojemność skokowa</th>\n      <th>Skrzynia biegów</th>\n      <th>Opłata początkowa</th>\n      <th>Generacja</th>\n      <th>Okres gwarancji producenta</th>\n      <th>Pojemność baterii</th>\n    </tr>\n  </thead>\n  <tbody>\n    <tr>\n      <th>0</th>\n      <td>Używane</td>\n      <td>None</td>\n      <td>None</td>\n      <td>Tak</td>\n      <td>None</td>\n      <td>None</td>\n      <td>None</td>\n      <td>150 KM</td>\n      <td>Szary</td>\n      <td>4.0 l/100km</td>\n      <td>...</td>\n      <td>None</td>\n      <td>None</td>\n      <td>None</td>\n      <td>None</td>\n      <td>1 395 cm3</td>\n      <td>Manualna</td>\n      <td>None</td>\n      <td>B8 (2014-2023)</td>\n      <td>None</td>\n      <td>None</td>\n    </tr>\n    <tr>\n      <th>1</th>\n      <td>Nowe</td>\n      <td>None</td>\n      <td>None</td>\n      <td>None</td>\n      <td>None</td>\n      <td>None</td>\n      <td>None</td>\n      <td>150 KM</td>\n      <td>Biały</td>\n      <td>None</td>\n      <td>...</td>\n      <td>None</td>\n      <td>None</td>\n      <td>None</td>\n      <td>None</td>\n      <td>1 498 cm3</td>\n      <td>Automatyczna</td>\n      <td>None</td>\n      <td>None</td>\n      <td>None</td>\n      <td>None</td>\n    </tr>\n    <tr>\n      <th>2</th>\n      <td>Używane</td>\n      <td>None</td>\n      <td>None</td>\n      <td>Tak</td>\n      <td>Tak</td>\n      <td>Metalik</td>\n      <td>Belgia</td>\n      <td>181 KM</td>\n      <td>Brązowy</td>\n      <td>4.1 l/100km</td>\n      <td>...</td>\n      <td>None</td>\n      <td>Tak</td>\n      <td>None</td>\n      <td>5</td>\n      <td>1 969 cm3</td>\n      <td>Manualna</td>\n      <td>None</td>\n      <td>None</td>\n      <td>None</td>\n      <td>None</td>\n    </tr>\n    <tr>\n      <th>3</th>\n      <td>None</td>\n      <td>None</td>\n      <td>None</td>\n      <td>None</td>\n      <td>None</td>\n      <td>None</td>\n      <td>None</td>\n      <td>None</td>\n      <td>None</td>\n      <td>None</td>\n      <td>...</td>\n      <td>None</td>\n      <td>None</td>\n      <td>None</td>\n      <td>None</td>\n      <td>None</td>\n      <td>None</td>\n      <td>None</td>\n      <td>None</td>\n      <td>None</td>\n      <td>None</td>\n    </tr>\n    <tr>\n      <th>4</th>\n      <td>Używane</td>\n      <td>None</td>\n      <td>None</td>\n      <td>Tak</td>\n      <td>None</td>\n      <td>Metalik</td>\n      <td>None</td>\n      <td>120 KM</td>\n      <td>Szary</td>\n      <td>3.2 l/100km</td>\n      <td>...</td>\n      <td>None</td>\n      <td>None</td>\n      <td>None</td>\n      <td>5</td>\n      <td>1 560 cm3</td>\n      <td>Manualna</td>\n      <td>None</td>\n      <td>I (2012-2019)</td>\n      <td>None</td>\n      <td>None</td>\n    </tr>\n    <tr>\n      <th>...</th>\n      <td>...</td>\n      <td>...</td>\n      <td>...</td>\n      <td>...</td>\n      <td>...</td>\n      <td>...</td>\n      <td>...</td>\n      <td>...</td>\n      <td>...</td>\n      <td>...</td>\n      <td>...</td>\n      <td>...</td>\n      <td>...</td>\n      <td>...</td>\n      <td>...</td>\n      <td>...</td>\n      <td>...</td>\n      <td>...</td>\n      <td>...</td>\n      <td>...</td>\n      <td>...</td>\n    </tr>\n    <tr>\n      <th>704</th>\n      <td>Używane</td>\n      <td>None</td>\n      <td>None</td>\n      <td>Tak</td>\n      <td>None</td>\n      <td>None</td>\n      <td>Polska</td>\n      <td>150 KM</td>\n      <td>Szary</td>\n      <td>None</td>\n      <td>...</td>\n      <td>None</td>\n      <td>None</td>\n      <td>None</td>\n      <td>None</td>\n      <td>1 968 cm3</td>\n      <td>Manualna</td>\n      <td>None</td>\n      <td>B8 (2014-2023)</td>\n      <td>None</td>\n      <td>None</td>\n    </tr>\n    <tr>\n      <th>705</th>\n      <td>Używane</td>\n      <td>None</td>\n      <td>None</td>\n      <td>Tak</td>\n      <td>None</td>\n      <td>Metalik</td>\n      <td>Niemcy</td>\n      <td>177 KM</td>\n      <td>Srebrny</td>\n      <td>4.0 l/100km</td>\n      <td>...</td>\n      <td>None</td>\n      <td>None</td>\n      <td>None</td>\n      <td>4</td>\n      <td>1 968 cm3</td>\n      <td>Automatyczna</td>\n      <td>None</td>\n      <td>8T (2007-2016)</td>\n      <td>None</td>\n      <td>None</td>\n    </tr>\n    <tr>\n      <th>706</th>\n      <td>Nowe</td>\n      <td>None</td>\n      <td>None</td>\n      <td>None</td>\n      <td>None</td>\n      <td>Metalik</td>\n      <td>Polska</td>\n      <td>141 KM</td>\n      <td>Zielony</td>\n      <td>None</td>\n      <td>...</td>\n      <td>None</td>\n      <td>Tak</td>\n      <td>None</td>\n      <td>5</td>\n      <td>1 580 cm3</td>\n      <td>Automatyczna</td>\n      <td>None</td>\n      <td>None</td>\n      <td>None</td>\n      <td>None</td>\n    </tr>\n    <tr>\n      <th>707</th>\n      <td>Używane</td>\n      <td>None</td>\n      <td>None</td>\n      <td>Tak</td>\n      <td>None</td>\n      <td>Metalik</td>\n      <td>Niemcy</td>\n      <td>140 KM</td>\n      <td>Zielony</td>\n      <td>None</td>\n      <td>...</td>\n      <td>Tak</td>\n      <td>None</td>\n      <td>None</td>\n      <td>5</td>\n      <td>2 435 cm3</td>\n      <td>Manualna</td>\n      <td>None</td>\n      <td>II (2004-2012)</td>\n      <td>None</td>\n      <td>None</td>\n    </tr>\n    <tr>\n      <th>708</th>\n      <td>Używane</td>\n      <td>None</td>\n      <td>None</td>\n      <td>Tak</td>\n      <td>None</td>\n      <td>Metalik</td>\n      <td>Polska</td>\n      <td>265 KM</td>\n      <td>Srebrny</td>\n      <td>None</td>\n      <td>...</td>\n      <td>None</td>\n      <td>Tak</td>\n      <td>None</td>\n      <td>5</td>\n      <td>1 598 cm3</td>\n      <td>Automatyczna</td>\n      <td>None</td>\n      <td>V (2021-)</td>\n      <td>None</td>\n      <td>None</td>\n    </tr>\n  </tbody>\n</table>\n<p>709 rows × 49 columns</p>\n</div>"
     },
     "execution_count": 16,
     "metadata": {},
     "output_type": "execute_result"
    }
   ],
   "source": [
    "df"
   ],
   "metadata": {
    "collapsed": false,
    "ExecuteTime": {
     "end_time": "2024-02-19T10:38:51.568287200Z",
     "start_time": "2024-02-19T10:38:51.502465400Z"
    }
   },
   "id": "746de79adcfa1016",
   "execution_count": 16
  },
  {
   "cell_type": "code",
   "outputs": [],
   "source": [],
   "metadata": {
    "collapsed": false,
    "ExecuteTime": {
     "end_time": "2024-02-19T10:38:51.585242100Z",
     "start_time": "2024-02-19T10:38:51.570282200Z"
    }
   },
   "id": "e9854d64c9aecba7",
   "execution_count": 16
  }
 ],
 "metadata": {
  "kernelspec": {
   "display_name": "Python 3",
   "language": "python",
   "name": "python3"
  },
  "language_info": {
   "codemirror_mode": {
    "name": "ipython",
    "version": 2
   },
   "file_extension": ".py",
   "mimetype": "text/x-python",
   "name": "python",
   "nbconvert_exporter": "python",
   "pygments_lexer": "ipython2",
   "version": "2.7.6"
  }
 },
 "nbformat": 4,
 "nbformat_minor": 5
}
