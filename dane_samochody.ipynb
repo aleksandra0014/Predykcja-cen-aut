{
 "cells": [
  {
   "cell_type": "code",
   "execution_count": 53,
   "id": "initial_id",
   "metadata": {
    "collapsed": true,
    "ExecuteTime": {
     "end_time": "2024-02-19T11:46:10.830010700Z",
     "start_time": "2024-02-19T11:46:10.798093200Z"
    }
   },
   "outputs": [],
   "source": [
    "from web_scr import Scraper\n",
    "import pandas as pd"
   ]
  },
  {
   "cell_type": "code",
   "outputs": [],
   "source": [
    "sc = Scraper()\n",
    "lista = sc.scrape_pages(1)"
   ],
   "metadata": {
    "collapsed": false,
    "ExecuteTime": {
     "end_time": "2024-02-19T11:46:44.603219100Z",
     "start_time": "2024-02-19T11:46:12.077675Z"
    }
   },
   "id": "d32f32ff685f1140",
   "execution_count": 54
  },
  {
   "cell_type": "code",
   "outputs": [
    {
     "data": {
      "text/plain": "[{'Oferta od': 'Prywatne'},\n {'Pokaż oferty z numerem VIN': 'Tak'},\n {'Ma numer rejestracyjny': 'Tak'},\n {'Marka pojazdu': 'Lexus'},\n {'Model pojazdu': 'CT'},\n {'Rok produkcji': '2020'},\n {'Przebieg': '21 500 km'},\n {'Pojemność skokowa': '1 798 cm3'},\n {'Rodzaj paliwa': 'Hybryda'},\n {'Moc': '136 KM'},\n {'Skrzynia biegów': 'Automatyczna'},\n {'Napęd': 'Na przednie koła'},\n {'Typ nadwozia': 'Kompakt'},\n {'Liczba drzwi': '5'},\n {'Liczba miejsc': '5'},\n {'Kolor': 'Czarny'},\n {'Rodzaj koloru': 'Metalik'},\n {'Okres gwarancji producenta': '28 Lutego 2025'},\n {'lub do (przebieg km)': '100 000 km'},\n {'Kraj pochodzenia': 'Polska'},\n {'Data pierwszej rejestracji w historii pojazdu': '10 luty 2021'},\n {'Numer rejestracyjny pojazdu': 'WU8407L'},\n {'Zarejestrowany w Polsce': 'Tak'},\n {'Pierwszy właściciel (od nowości)': 'Tak'},\n {'Bezwypadkowy': 'Tak'},\n {'Serwisowany w ASO': 'Tak'},\n {'Stan': 'Używane'}]"
     },
     "execution_count": 56,
     "metadata": {},
     "output_type": "execute_result"
    }
   ],
   "source": [
    "lista[0]"
   ],
   "metadata": {
    "collapsed": false,
    "ExecuteTime": {
     "end_time": "2024-02-19T11:47:25.418575700Z",
     "start_time": "2024-02-19T11:47:25.380677100Z"
    }
   },
   "id": "c1bad5859ad05fe5",
   "execution_count": 56
  },
  {
   "cell_type": "code",
   "outputs": [],
   "source": [
    "unique_keys = set()\n",
    "for item in lista:\n",
    "    for d in item:\n",
    "        unique_keys.update(d.keys())\n",
    "\n",
    "flat_dict = {key: [] for key in unique_keys}\n",
    "\n",
    "for item in lista:\n",
    "    temp_dict = {}\n",
    "    for d in item:\n",
    "        temp_dict.update(d)\n",
    "    for key in flat_dict.keys():\n",
    "        flat_dict[key].append(temp_dict.get(key, None))\n",
    "\n",
    "df = pd.DataFrame(flat_dict)\n",
    "df.to_csv('dane.csv', index=False)"
   ],
   "metadata": {
    "collapsed": false,
    "ExecuteTime": {
     "end_time": "2024-02-19T11:07:37.834058800Z",
     "start_time": "2024-02-19T11:07:37.802145900Z"
    }
   },
   "id": "a3d3afcbbe6a3ae5",
   "execution_count": 38
  },
  {
   "cell_type": "code",
   "outputs": [
    {
     "name": "stdout",
     "output_type": "stream",
     "text": [
      "Index(['Stan', 'Wartość wykupu', 'Kraj pochodzenia',\n",
      "       'Pokaż oferty z numerem VIN', 'Rodzaj koloru', 'Moc', 'Kolor',\n",
      "       'Spalanie Poza Miastem', 'Faktura VAT', 'Spalanie W Cyklu Mieszanym',\n",
      "       'Autonomia', 'Spalanie W Mieście', 'Bezwypadkowy',\n",
      "       'Zarejestrowany w Polsce', 'Numer rejestracyjny pojazdu',\n",
      "       'Rok produkcji', 'Serwisowany w ASO', 'Uszkodzony',\n",
      "       'Gwarancja dealerska (w cenie)', 'Leasing', 'Miesięczna rata',\n",
      "       'Model pojazdu', 'Marka pojazdu', 'Przebieg', 'Emisja CO2',\n",
      "       'Liczba drzwi', 'Rodzaj paliwa', 'Typ nadwozia', 'Tuning', 'Oferta od',\n",
      "       'Średnie zużycie', 'Liczba pozostałych rat', 'Ma numer rejestracyjny',\n",
      "       'Wersja', 'Data pierwszej rejestracji w historii pojazdu', 'Napęd',\n",
      "       'Pierwszy właściciel (od nowości)', 'Możliwość finansowania',\n",
      "       'Rodzaj własności baterii', 'Liczba miejsc', 'Pojemność skokowa',\n",
      "       'Skrzynia biegów', 'Generacja', 'Pojemność baterii'],\n",
      "      dtype='object')\n"
     ]
    }
   ],
   "source": [
    "print(df.columns)"
   ],
   "metadata": {
    "collapsed": false,
    "ExecuteTime": {
     "end_time": "2024-02-19T11:07:37.849020700Z",
     "start_time": "2024-02-19T11:07:37.827075700Z"
    }
   },
   "id": "746de79adcfa1016",
   "execution_count": 39
  },
  {
   "cell_type": "markdown",
   "source": [
    "## Analiza danych \n",
    "1. Jakiej marki najwięce? \n",
    "2. "
   ],
   "metadata": {
    "collapsed": false
   },
   "id": "af86a8ce191eecf"
  },
  {
   "cell_type": "code",
   "outputs": [
    {
     "ename": "KeyError",
     "evalue": "'Cena'",
     "output_type": "error",
     "traceback": [
      "\u001B[1;31m---------------------------------------------------------------------------\u001B[0m",
      "\u001B[1;31mKeyError\u001B[0m                                  Traceback (most recent call last)",
      "File \u001B[1;32mc:\\users\\hp\\appdata\\local\\programs\\python\\python39\\lib\\site-packages\\pandas\\core\\indexes\\base.py:3653\u001B[0m, in \u001B[0;36mIndex.get_loc\u001B[1;34m(self, key)\u001B[0m\n\u001B[0;32m   3652\u001B[0m \u001B[38;5;28;01mtry\u001B[39;00m:\n\u001B[1;32m-> 3653\u001B[0m     \u001B[38;5;28;01mreturn\u001B[39;00m \u001B[38;5;28;43mself\u001B[39;49m\u001B[38;5;241;43m.\u001B[39;49m\u001B[43m_engine\u001B[49m\u001B[38;5;241;43m.\u001B[39;49m\u001B[43mget_loc\u001B[49m\u001B[43m(\u001B[49m\u001B[43mcasted_key\u001B[49m\u001B[43m)\u001B[49m\n\u001B[0;32m   3654\u001B[0m \u001B[38;5;28;01mexcept\u001B[39;00m \u001B[38;5;167;01mKeyError\u001B[39;00m \u001B[38;5;28;01mas\u001B[39;00m err:\n",
      "File \u001B[1;32mc:\\users\\hp\\appdata\\local\\programs\\python\\python39\\lib\\site-packages\\pandas\\_libs\\index.pyx:147\u001B[0m, in \u001B[0;36mpandas._libs.index.IndexEngine.get_loc\u001B[1;34m()\u001B[0m\n",
      "File \u001B[1;32mc:\\users\\hp\\appdata\\local\\programs\\python\\python39\\lib\\site-packages\\pandas\\_libs\\index.pyx:176\u001B[0m, in \u001B[0;36mpandas._libs.index.IndexEngine.get_loc\u001B[1;34m()\u001B[0m\n",
      "File \u001B[1;32mpandas\\_libs\\hashtable_class_helper.pxi:7080\u001B[0m, in \u001B[0;36mpandas._libs.hashtable.PyObjectHashTable.get_item\u001B[1;34m()\u001B[0m\n",
      "File \u001B[1;32mpandas\\_libs\\hashtable_class_helper.pxi:7088\u001B[0m, in \u001B[0;36mpandas._libs.hashtable.PyObjectHashTable.get_item\u001B[1;34m()\u001B[0m\n",
      "\u001B[1;31mKeyError\u001B[0m: 'Cena'",
      "\nThe above exception was the direct cause of the following exception:\n",
      "\u001B[1;31mKeyError\u001B[0m                                  Traceback (most recent call last)",
      "Cell \u001B[1;32mIn[40], line 1\u001B[0m\n\u001B[1;32m----> 1\u001B[0m \u001B[43mdf\u001B[49m\u001B[43m[\u001B[49m\u001B[38;5;124;43m'\u001B[39;49m\u001B[38;5;124;43mCena\u001B[39;49m\u001B[38;5;124;43m'\u001B[39;49m\u001B[43m]\u001B[49m\n",
      "File \u001B[1;32mc:\\users\\hp\\appdata\\local\\programs\\python\\python39\\lib\\site-packages\\pandas\\core\\frame.py:3761\u001B[0m, in \u001B[0;36mDataFrame.__getitem__\u001B[1;34m(self, key)\u001B[0m\n\u001B[0;32m   3759\u001B[0m \u001B[38;5;28;01mif\u001B[39;00m \u001B[38;5;28mself\u001B[39m\u001B[38;5;241m.\u001B[39mcolumns\u001B[38;5;241m.\u001B[39mnlevels \u001B[38;5;241m>\u001B[39m \u001B[38;5;241m1\u001B[39m:\n\u001B[0;32m   3760\u001B[0m     \u001B[38;5;28;01mreturn\u001B[39;00m \u001B[38;5;28mself\u001B[39m\u001B[38;5;241m.\u001B[39m_getitem_multilevel(key)\n\u001B[1;32m-> 3761\u001B[0m indexer \u001B[38;5;241m=\u001B[39m \u001B[38;5;28;43mself\u001B[39;49m\u001B[38;5;241;43m.\u001B[39;49m\u001B[43mcolumns\u001B[49m\u001B[38;5;241;43m.\u001B[39;49m\u001B[43mget_loc\u001B[49m\u001B[43m(\u001B[49m\u001B[43mkey\u001B[49m\u001B[43m)\u001B[49m\n\u001B[0;32m   3762\u001B[0m \u001B[38;5;28;01mif\u001B[39;00m is_integer(indexer):\n\u001B[0;32m   3763\u001B[0m     indexer \u001B[38;5;241m=\u001B[39m [indexer]\n",
      "File \u001B[1;32mc:\\users\\hp\\appdata\\local\\programs\\python\\python39\\lib\\site-packages\\pandas\\core\\indexes\\base.py:3655\u001B[0m, in \u001B[0;36mIndex.get_loc\u001B[1;34m(self, key)\u001B[0m\n\u001B[0;32m   3653\u001B[0m     \u001B[38;5;28;01mreturn\u001B[39;00m \u001B[38;5;28mself\u001B[39m\u001B[38;5;241m.\u001B[39m_engine\u001B[38;5;241m.\u001B[39mget_loc(casted_key)\n\u001B[0;32m   3654\u001B[0m \u001B[38;5;28;01mexcept\u001B[39;00m \u001B[38;5;167;01mKeyError\u001B[39;00m \u001B[38;5;28;01mas\u001B[39;00m err:\n\u001B[1;32m-> 3655\u001B[0m     \u001B[38;5;28;01mraise\u001B[39;00m \u001B[38;5;167;01mKeyError\u001B[39;00m(key) \u001B[38;5;28;01mfrom\u001B[39;00m \u001B[38;5;21;01merr\u001B[39;00m\n\u001B[0;32m   3656\u001B[0m \u001B[38;5;28;01mexcept\u001B[39;00m \u001B[38;5;167;01mTypeError\u001B[39;00m:\n\u001B[0;32m   3657\u001B[0m     \u001B[38;5;66;03m# If we have a listlike key, _check_indexing_error will raise\u001B[39;00m\n\u001B[0;32m   3658\u001B[0m     \u001B[38;5;66;03m#  InvalidIndexError. Otherwise we fall through and re-raise\u001B[39;00m\n\u001B[0;32m   3659\u001B[0m     \u001B[38;5;66;03m#  the TypeError.\u001B[39;00m\n\u001B[0;32m   3660\u001B[0m     \u001B[38;5;28mself\u001B[39m\u001B[38;5;241m.\u001B[39m_check_indexing_error(key)\n",
      "\u001B[1;31mKeyError\u001B[0m: 'Cena'"
     ]
    }
   ],
   "source": [
    "df['Cena']"
   ],
   "metadata": {
    "collapsed": false,
    "ExecuteTime": {
     "end_time": "2024-02-19T11:08:11.007828900Z",
     "start_time": "2024-02-19T11:08:10.888142500Z"
    }
   },
   "id": "8ea1a5eb253e8cee",
   "execution_count": 40
  },
  {
   "cell_type": "code",
   "outputs": [],
   "source": [],
   "metadata": {
    "collapsed": false
   },
   "id": "6279319b0893988b"
  }
 ],
 "metadata": {
  "kernelspec": {
   "display_name": "Python 3",
   "language": "python",
   "name": "python3"
  },
  "language_info": {
   "codemirror_mode": {
    "name": "ipython",
    "version": 2
   },
   "file_extension": ".py",
   "mimetype": "text/x-python",
   "name": "python",
   "nbconvert_exporter": "python",
   "pygments_lexer": "ipython2",
   "version": "2.7.6"
  }
 },
 "nbformat": 4,
 "nbformat_minor": 5
}
