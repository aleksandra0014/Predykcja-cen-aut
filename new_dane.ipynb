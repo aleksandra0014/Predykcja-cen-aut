{
 "cells": [
  {
   "cell_type": "code",
   "execution_count": 5,
   "id": "initial_id",
   "metadata": {
    "collapsed": true,
    "ExecuteTime": {
     "end_time": "2024-02-19T11:54:02.671319Z",
     "start_time": "2024-02-19T11:54:02.635414100Z"
    }
   },
   "outputs": [],
   "source": [
    "from web_scr import Scraper\n",
    "import pandas as pd"
   ]
  },
  {
   "cell_type": "code",
   "outputs": [
    {
     "name": "stdout",
     "output_type": "stream",
     "text": [
      "Problem with scraping website, reason: 'NoneType' object has no attribute 'get_text'\n",
      "Problem with scraping website, reason: 'NoneType' object has no attribute 'get_text'\n",
      "Problem with scraping website, reason: 'NoneType' object has no attribute 'get_text'\n",
      "Problem with scraping website, reason: 'NoneType' object has no attribute 'get_text'\n",
      "Problem with scraping website, reason: 'NoneType' object has no attribute 'get_text'\n",
      "Problem with scraping website, reason: 'NoneType' object has no attribute 'get_text'\n",
      "Problem with scraping website, reason: 'NoneType' object has no attribute 'get_text'\n",
      "Problem with scraping website, reason: 'NoneType' object has no attribute 'get_text'\n",
      "Problem with scraping website, reason: 'NoneType' object has no attribute 'get_text'\n",
      "Problem with scraping website, reason: 'NoneType' object has no attribute 'get_text'\n",
      "Problem with scraping website, reason: 'NoneType' object has no attribute 'get_text'\n",
      "Problem with scraping website, reason: 'NoneType' object has no attribute 'get_text'\n",
      "Problem with scraping website, reason: 'NoneType' object has no attribute 'get_text'\n",
      "Problem with scraping website, reason: 'NoneType' object has no attribute 'get_text'\n",
      "Problem with scraping website, reason: 'NoneType' object has no attribute 'get_text'\n",
      "Problem with scraping website, reason: 'NoneType' object has no attribute 'get_text'\n",
      "Problem with scraping website, reason: 'NoneType' object has no attribute 'get_text'\n",
      "Problem with scraping website, reason: 'NoneType' object has no attribute 'get_text'\n",
      "Problem with scraping website, reason: 'NoneType' object has no attribute 'get_text'\n",
      "Problem with scraping website, reason: 'NoneType' object has no attribute 'get_text'\n",
      "Problem with scraping website, reason: 'NoneType' object has no attribute 'get_text'\n",
      "Problem with scraping website, reason: 'NoneType' object has no attribute 'get_text'\n",
      "Problem with scraping website, reason: 'NoneType' object has no attribute 'get_text'\n",
      "Problem with scraping website, reason: 'NoneType' object has no attribute 'get_text'\n",
      "Problem with scraping website, reason: 'NoneType' object has no attribute 'get_text'\n",
      "Problem with scraping website, reason: 'NoneType' object has no attribute 'get_text'\n",
      "Problem with scraping website, reason: 'NoneType' object has no attribute 'get_text'\n",
      "Problem with scraping website, reason: 'NoneType' object has no attribute 'get_text'\n",
      "Problem with scraping website, reason: 'NoneType' object has no attribute 'get_text'\n",
      "Problem with scraping website, reason: 'NoneType' object has no attribute 'get_text'\n",
      "Problem with scraping website, reason: 'NoneType' object has no attribute 'get_text'\n",
      "Problem with scraping website, reason: 'NoneType' object has no attribute 'get_text'\n",
      "Problem with scraping website, reason: 'NoneType' object has no attribute 'get_text'\n",
      "Problem with scraping website, reason: 'NoneType' object has no attribute 'get_text'\n",
      "Problem with scraping website, reason: 'NoneType' object has no attribute 'get_text'\n",
      "Problem with scraping website, reason: 'NoneType' object has no attribute 'get_text'\n",
      "Problem with scraping website, reason: 'NoneType' object has no attribute 'get_text'\n",
      "Problem with scraping website, reason: 'NoneType' object has no attribute 'get_text'\n",
      "Problem with scraping website, reason: 'NoneType' object has no attribute 'get_text'\n",
      "Problem with scraping website, reason: 'NoneType' object has no attribute 'get_text'\n",
      "Problem with scraping website, reason: 'NoneType' object has no attribute 'get_text'\n",
      "Problem with scraping website, reason: 'NoneType' object has no attribute 'get_text'\n",
      "Problem with scraping website, reason: 'NoneType' object has no attribute 'get_text'\n",
      "Problem with scraping website, reason: 'NoneType' object has no attribute 'get_text'\n",
      "Problem with scraping website, reason: 'NoneType' object has no attribute 'get_text'\n",
      "Problem with scraping website, reason: 'NoneType' object has no attribute 'get_text'\n",
      "Problem with scraping website, reason: 'NoneType' object has no attribute 'get_text'\n",
      "Problem with scraping website, reason: 'NoneType' object has no attribute 'get_text'\n",
      "Problem with scraping website, reason: 'NoneType' object has no attribute 'get_text'\n",
      "Problem with scraping website, reason: 'NoneType' object has no attribute 'get_text'\n",
      "Problem with scraping website, reason: 'NoneType' object has no attribute 'get_text'\n",
      "Problem with scraping website, reason: 'NoneType' object has no attribute 'get_text'\n",
      "Problem with scraping website, reason: 'NoneType' object has no attribute 'get_text'\n",
      "Problem with scraping website, reason: 'NoneType' object has no attribute 'get_text'\n",
      "Problem with scraping website, reason: 'NoneType' object has no attribute 'get_text'\n",
      "Problem with scraping website, reason: 'NoneType' object has no attribute 'get_text'\n",
      "Problem with scraping website, reason: 'NoneType' object has no attribute 'get_text'\n",
      "Problem with scraping website, reason: 'NoneType' object has no attribute 'get_text'\n",
      "Problem with scraping website, reason: 'NoneType' object has no attribute 'get_text'\n",
      "Problem with scraping website, reason: 'NoneType' object has no attribute 'get_text'\n",
      "Problem with scraping website, reason: 'NoneType' object has no attribute 'get_text'\n",
      "Problem with scraping website, reason: 'NoneType' object has no attribute 'get_text'\n",
      "Problem with scraping website, reason: 'NoneType' object has no attribute 'get_text'\n",
      "Problem with scraping website, reason: 'NoneType' object has no attribute 'get_text'\n",
      "Problem with scraping website, reason: 'NoneType' object has no attribute 'get_text'\n",
      "Problem with scraping website, reason: 'NoneType' object has no attribute 'get_text'\n",
      "Problem with scraping website, reason: 'NoneType' object has no attribute 'get_text'\n",
      "Problem with scraping website, reason: 'NoneType' object has no attribute 'get_text'\n",
      "Problem with scraping website, reason: 'NoneType' object has no attribute 'get_text'\n",
      "Problem with scraping website, reason: 'NoneType' object has no attribute 'get_text'\n",
      "Problem with scraping website, reason: 'NoneType' object has no attribute 'get_text'\n",
      "Problem with scraping website, reason: 'NoneType' object has no attribute 'get_text'\n",
      "Problem with scraping website, reason: 'NoneType' object has no attribute 'get_text'\n"
     ]
    }
   ],
   "source": [
    "sc = Scraper()\n",
    "dane = sc.scrape_pages(20)"
   ],
   "metadata": {
    "collapsed": false,
    "ExecuteTime": {
     "end_time": "2024-02-19T12:05:00.684221100Z",
     "start_time": "2024-02-19T11:54:02.661345900Z"
    }
   },
   "id": "137afb0a1e9b9c8b",
   "execution_count": 6
  },
  {
   "cell_type": "code",
   "outputs": [],
   "source": [
    "unique_keys = set()\n",
    "for item in dane:\n",
    "    for d in item:\n",
    "        unique_keys.update(d.keys())\n",
    "\n",
    "flat_dict = {key: [] for key in unique_keys}\n",
    "\n",
    "for item in dane:\n",
    "    temp_dict = {}\n",
    "    for d in item:\n",
    "        temp_dict.update(d)\n",
    "    for key in flat_dict.keys():\n",
    "        flat_dict[key].append(temp_dict.get(key, None))\n",
    "\n",
    "df = pd.DataFrame(flat_dict)\n",
    "df.to_csv('dane.csv', index=False)"
   ],
   "metadata": {
    "collapsed": false,
    "ExecuteTime": {
     "end_time": "2024-02-19T12:05:00.762014600Z",
     "start_time": "2024-02-19T12:05:00.689212200Z"
    }
   },
   "id": "f36549b0ff4ecff2",
   "execution_count": 7
  },
  {
   "cell_type": "code",
   "outputs": [
    {
     "data": {
      "text/plain": "    Leasing Spalanie W Cyklu Mieszanym         Generacja Skrzynia biegów  \\\n0       Tak                       None     K (2015-2021)        Manualna   \n1      None                       None     I (2010-2018)        Manualna   \n2       Tak                       None  R231 (2012-2020)    Automatyczna   \n3      None                       None              None            None   \n4      None                       None     I (2002-2013)        Manualna   \n..      ...                        ...               ...             ...   \n708    None                       None    II (2007-2014)        Manualna   \n709     Tak                       None   G20/G21 (2019-)    Automatyczna   \n710    None                       None                T5        Manualna   \n711    None                       None     II FL (2003-)        Manualna   \n712    None                       None              None            None   \n\n    Rok produkcji Kierownica po prawej (Anglik) Pojemność skokowa  \\\n0            2019                          None         1 199 cm3   \n1            2014                          None         1 997 cm3   \n2            2023                          None         3 982 cm3   \n3            None                          None              None   \n4            2012                          None         1 753 cm3   \n..            ...                           ...               ...   \n708          2012                          None         1 197 cm3   \n709          2021                          None         1 995 cm3   \n710          2005                          None         1 896 cm3   \n711          2011                          None         1 242 cm3   \n712          None                          None              None   \n\n    Pojemność baterii Liczba pozostałych rat Kraj pochodzenia  ...  \\\n0                None                   None           Polska  ...   \n1                None                   None           Belgia  ...   \n2                None                   None           Polska  ...   \n3                None                   None             None  ...   \n4                None                   None          Austria  ...   \n..                ...                    ...              ...  ...   \n708              None                   None           Polska  ...   \n709              None                   None           Polska  ...   \n710              None                   None           Polska  ...   \n711              None                   None             None  ...   \n712              None                   None             None  ...   \n\n    Okres gwarancji producenta Pokaż oferty z numerem VIN  \\\n0                         None                        Tak   \n1                         None                        Tak   \n2                         None                        Tak   \n3                         None                       None   \n4                         None                        Tak   \n..                         ...                        ...   \n708                       None                        Tak   \n709           13 Kwietnia 2024                        Tak   \n710                       None                        Tak   \n711                       None                        Tak   \n712                       None                       None   \n\n    Pierwszy właściciel (od nowości) Serwisowany w ASO Liczba miejsc  \\\n0                                Tak               Tak             5   \n1                               None              None             5   \n2                                Tak               Tak             4   \n3                               None              None          None   \n4                               None              None             2   \n..                               ...               ...           ...   \n708                             None              None             5   \n709                              Tak               Tak             5   \n710                             None               Tak             9   \n711                             None              None             4   \n712                             None              None          None   \n\n     Marka pojazdu Spalanie W Mieście Uszkodzony Średnie zużycie  \\\n0             Opel               None       None            None   \n1          Peugeot               None       None            None   \n2    Mercedes-Benz               None       None            None   \n3             None               None       None            None   \n4             Ford               None       None            None   \n..             ...                ...        ...             ...   \n708          Skoda          6 l/100km       None            None   \n709            BMW               None       None            None   \n710     Volkswagen               None       None            None   \n711           Fiat               None       None            None   \n712           None               None       None            None   \n\n      Typ nadwozia  \n0          Kompakt  \n1            Kombi  \n2        Kabriolet  \n3             None  \n4          Minivan  \n..             ...  \n708  Auta miejskie  \n709          Kombi  \n710        Minivan  \n711        Kompakt  \n712           None  \n\n[713 rows x 51 columns]",
      "text/html": "<div>\n<style scoped>\n    .dataframe tbody tr th:only-of-type {\n        vertical-align: middle;\n    }\n\n    .dataframe tbody tr th {\n        vertical-align: top;\n    }\n\n    .dataframe thead th {\n        text-align: right;\n    }\n</style>\n<table border=\"1\" class=\"dataframe\">\n  <thead>\n    <tr style=\"text-align: right;\">\n      <th></th>\n      <th>Leasing</th>\n      <th>Spalanie W Cyklu Mieszanym</th>\n      <th>Generacja</th>\n      <th>Skrzynia biegów</th>\n      <th>Rok produkcji</th>\n      <th>Kierownica po prawej (Anglik)</th>\n      <th>Pojemność skokowa</th>\n      <th>Pojemność baterii</th>\n      <th>Liczba pozostałych rat</th>\n      <th>Kraj pochodzenia</th>\n      <th>...</th>\n      <th>Okres gwarancji producenta</th>\n      <th>Pokaż oferty z numerem VIN</th>\n      <th>Pierwszy właściciel (od nowości)</th>\n      <th>Serwisowany w ASO</th>\n      <th>Liczba miejsc</th>\n      <th>Marka pojazdu</th>\n      <th>Spalanie W Mieście</th>\n      <th>Uszkodzony</th>\n      <th>Średnie zużycie</th>\n      <th>Typ nadwozia</th>\n    </tr>\n  </thead>\n  <tbody>\n    <tr>\n      <th>0</th>\n      <td>Tak</td>\n      <td>None</td>\n      <td>K (2015-2021)</td>\n      <td>Manualna</td>\n      <td>2019</td>\n      <td>None</td>\n      <td>1 199 cm3</td>\n      <td>None</td>\n      <td>None</td>\n      <td>Polska</td>\n      <td>...</td>\n      <td>None</td>\n      <td>Tak</td>\n      <td>Tak</td>\n      <td>Tak</td>\n      <td>5</td>\n      <td>Opel</td>\n      <td>None</td>\n      <td>None</td>\n      <td>None</td>\n      <td>Kompakt</td>\n    </tr>\n    <tr>\n      <th>1</th>\n      <td>None</td>\n      <td>None</td>\n      <td>I (2010-2018)</td>\n      <td>Manualna</td>\n      <td>2014</td>\n      <td>None</td>\n      <td>1 997 cm3</td>\n      <td>None</td>\n      <td>None</td>\n      <td>Belgia</td>\n      <td>...</td>\n      <td>None</td>\n      <td>Tak</td>\n      <td>None</td>\n      <td>None</td>\n      <td>5</td>\n      <td>Peugeot</td>\n      <td>None</td>\n      <td>None</td>\n      <td>None</td>\n      <td>Kombi</td>\n    </tr>\n    <tr>\n      <th>2</th>\n      <td>Tak</td>\n      <td>None</td>\n      <td>R231 (2012-2020)</td>\n      <td>Automatyczna</td>\n      <td>2023</td>\n      <td>None</td>\n      <td>3 982 cm3</td>\n      <td>None</td>\n      <td>None</td>\n      <td>Polska</td>\n      <td>...</td>\n      <td>None</td>\n      <td>Tak</td>\n      <td>Tak</td>\n      <td>Tak</td>\n      <td>4</td>\n      <td>Mercedes-Benz</td>\n      <td>None</td>\n      <td>None</td>\n      <td>None</td>\n      <td>Kabriolet</td>\n    </tr>\n    <tr>\n      <th>3</th>\n      <td>None</td>\n      <td>None</td>\n      <td>None</td>\n      <td>None</td>\n      <td>None</td>\n      <td>None</td>\n      <td>None</td>\n      <td>None</td>\n      <td>None</td>\n      <td>None</td>\n      <td>...</td>\n      <td>None</td>\n      <td>None</td>\n      <td>None</td>\n      <td>None</td>\n      <td>None</td>\n      <td>None</td>\n      <td>None</td>\n      <td>None</td>\n      <td>None</td>\n      <td>None</td>\n    </tr>\n    <tr>\n      <th>4</th>\n      <td>None</td>\n      <td>None</td>\n      <td>I (2002-2013)</td>\n      <td>Manualna</td>\n      <td>2012</td>\n      <td>None</td>\n      <td>1 753 cm3</td>\n      <td>None</td>\n      <td>None</td>\n      <td>Austria</td>\n      <td>...</td>\n      <td>None</td>\n      <td>Tak</td>\n      <td>None</td>\n      <td>None</td>\n      <td>2</td>\n      <td>Ford</td>\n      <td>None</td>\n      <td>None</td>\n      <td>None</td>\n      <td>Minivan</td>\n    </tr>\n    <tr>\n      <th>...</th>\n      <td>...</td>\n      <td>...</td>\n      <td>...</td>\n      <td>...</td>\n      <td>...</td>\n      <td>...</td>\n      <td>...</td>\n      <td>...</td>\n      <td>...</td>\n      <td>...</td>\n      <td>...</td>\n      <td>...</td>\n      <td>...</td>\n      <td>...</td>\n      <td>...</td>\n      <td>...</td>\n      <td>...</td>\n      <td>...</td>\n      <td>...</td>\n      <td>...</td>\n      <td>...</td>\n    </tr>\n    <tr>\n      <th>708</th>\n      <td>None</td>\n      <td>None</td>\n      <td>II (2007-2014)</td>\n      <td>Manualna</td>\n      <td>2012</td>\n      <td>None</td>\n      <td>1 197 cm3</td>\n      <td>None</td>\n      <td>None</td>\n      <td>Polska</td>\n      <td>...</td>\n      <td>None</td>\n      <td>Tak</td>\n      <td>None</td>\n      <td>None</td>\n      <td>5</td>\n      <td>Skoda</td>\n      <td>6 l/100km</td>\n      <td>None</td>\n      <td>None</td>\n      <td>Auta miejskie</td>\n    </tr>\n    <tr>\n      <th>709</th>\n      <td>Tak</td>\n      <td>None</td>\n      <td>G20/G21 (2019-)</td>\n      <td>Automatyczna</td>\n      <td>2021</td>\n      <td>None</td>\n      <td>1 995 cm3</td>\n      <td>None</td>\n      <td>None</td>\n      <td>Polska</td>\n      <td>...</td>\n      <td>13 Kwietnia 2024</td>\n      <td>Tak</td>\n      <td>Tak</td>\n      <td>Tak</td>\n      <td>5</td>\n      <td>BMW</td>\n      <td>None</td>\n      <td>None</td>\n      <td>None</td>\n      <td>Kombi</td>\n    </tr>\n    <tr>\n      <th>710</th>\n      <td>None</td>\n      <td>None</td>\n      <td>T5</td>\n      <td>Manualna</td>\n      <td>2005</td>\n      <td>None</td>\n      <td>1 896 cm3</td>\n      <td>None</td>\n      <td>None</td>\n      <td>Polska</td>\n      <td>...</td>\n      <td>None</td>\n      <td>Tak</td>\n      <td>None</td>\n      <td>Tak</td>\n      <td>9</td>\n      <td>Volkswagen</td>\n      <td>None</td>\n      <td>None</td>\n      <td>None</td>\n      <td>Minivan</td>\n    </tr>\n    <tr>\n      <th>711</th>\n      <td>None</td>\n      <td>None</td>\n      <td>II FL (2003-)</td>\n      <td>Manualna</td>\n      <td>2011</td>\n      <td>None</td>\n      <td>1 242 cm3</td>\n      <td>None</td>\n      <td>None</td>\n      <td>None</td>\n      <td>...</td>\n      <td>None</td>\n      <td>Tak</td>\n      <td>None</td>\n      <td>None</td>\n      <td>4</td>\n      <td>Fiat</td>\n      <td>None</td>\n      <td>None</td>\n      <td>None</td>\n      <td>Kompakt</td>\n    </tr>\n    <tr>\n      <th>712</th>\n      <td>None</td>\n      <td>None</td>\n      <td>None</td>\n      <td>None</td>\n      <td>None</td>\n      <td>None</td>\n      <td>None</td>\n      <td>None</td>\n      <td>None</td>\n      <td>None</td>\n      <td>...</td>\n      <td>None</td>\n      <td>None</td>\n      <td>None</td>\n      <td>None</td>\n      <td>None</td>\n      <td>None</td>\n      <td>None</td>\n      <td>None</td>\n      <td>None</td>\n      <td>None</td>\n    </tr>\n  </tbody>\n</table>\n<p>713 rows × 51 columns</p>\n</div>"
     },
     "execution_count": 8,
     "metadata": {},
     "output_type": "execute_result"
    }
   ],
   "source": [
    "df"
   ],
   "metadata": {
    "collapsed": false,
    "ExecuteTime": {
     "end_time": "2024-02-19T12:05:00.825858600Z",
     "start_time": "2024-02-19T12:05:00.764015600Z"
    }
   },
   "id": "4dd899ba27286a93",
   "execution_count": 8
  }
 ],
 "metadata": {
  "kernelspec": {
   "display_name": "Python 3",
   "language": "python",
   "name": "python3"
  },
  "language_info": {
   "codemirror_mode": {
    "name": "ipython",
    "version": 2
   },
   "file_extension": ".py",
   "mimetype": "text/x-python",
   "name": "python",
   "nbconvert_exporter": "python",
   "pygments_lexer": "ipython2",
   "version": "2.7.6"
  }
 },
 "nbformat": 4,
 "nbformat_minor": 5
}
